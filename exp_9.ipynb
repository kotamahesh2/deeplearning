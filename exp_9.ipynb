{
  "nbformat": 4,
  "nbformat_minor": 0,
  "metadata": {
    "colab": {
      "provenance": [],
      "authorship_tag": "ABX9TyOW3/jzV+zvqMp1xiVqacWC",
      "include_colab_link": true
    },
    "kernelspec": {
      "name": "python3",
      "display_name": "Python 3"
    },
    "language_info": {
      "name": "python"
    }
  },
  "cells": [
    {
      "cell_type": "markdown",
      "metadata": {
        "id": "view-in-github",
        "colab_type": "text"
      },
      "source": [
        "<a href=\"https://colab.research.google.com/github/kotamahesh2/deeplearning/blob/main/exp_9.ipynb\" target=\"_parent\"><img src=\"https://colab.research.google.com/assets/colab-badge.svg\" alt=\"Open In Colab\"/></a>"
      ]
    },
    {
      "cell_type": "code",
      "execution_count": 1,
      "metadata": {
        "colab": {
          "base_uri": "https://localhost:8080/"
        },
        "id": "jTFWZIW4sjSj",
        "outputId": "988f73ca-b3d9-4a82-8512-9b064525b219"
      },
      "outputs": [
        {
          "output_type": "stream",
          "name": "stdout",
          "text": [
            "Downloading data from https://storage.googleapis.com/tensorflow/tf-keras-datasets/mnist.npz\n",
            "11490434/11490434 [==============================] - 0s 0us/step\n",
            "Epoch 1/10\n",
            "300/300 - 57s - loss: 0.3648 - accuracy: 0.8874 - val_loss: 0.0709 - val_accuracy: 0.9772 - 57s/epoch - 190ms/step\n",
            "Epoch 2/10\n",
            "300/300 - 47s - loss: 0.1048 - accuracy: 0.9692 - val_loss: 0.0472 - val_accuracy: 0.9849 - 47s/epoch - 157ms/step\n",
            "Epoch 3/10\n",
            "300/300 - 48s - loss: 0.0755 - accuracy: 0.9779 - val_loss: 0.0352 - val_accuracy: 0.9874 - 48s/epoch - 161ms/step\n",
            "Epoch 4/10\n",
            "300/300 - 48s - loss: 0.0620 - accuracy: 0.9816 - val_loss: 0.0323 - val_accuracy: 0.9890 - 48s/epoch - 161ms/step\n",
            "Epoch 5/10\n",
            "300/300 - 48s - loss: 0.0536 - accuracy: 0.9841 - val_loss: 0.0287 - val_accuracy: 0.9902 - 48s/epoch - 160ms/step\n",
            "Epoch 6/10\n",
            "300/300 - 49s - loss: 0.0463 - accuracy: 0.9866 - val_loss: 0.0300 - val_accuracy: 0.9902 - 49s/epoch - 163ms/step\n",
            "Epoch 7/10\n",
            "300/300 - 48s - loss: 0.0409 - accuracy: 0.9884 - val_loss: 0.0278 - val_accuracy: 0.9898 - 48s/epoch - 160ms/step\n",
            "Epoch 8/10\n",
            "300/300 - 49s - loss: 0.0378 - accuracy: 0.9886 - val_loss: 0.0252 - val_accuracy: 0.9916 - 49s/epoch - 164ms/step\n",
            "Epoch 9/10\n",
            "300/300 - 47s - loss: 0.0339 - accuracy: 0.9891 - val_loss: 0.0224 - val_accuracy: 0.9933 - 47s/epoch - 157ms/step\n",
            "Epoch 10/10\n",
            "300/300 - 49s - loss: 0.0283 - accuracy: 0.9914 - val_loss: 0.0230 - val_accuracy: 0.9925 - 49s/epoch - 162ms/step\n",
            "Test accuracy: 99.25%\n"
          ]
        }
      ],
      "source": [
        "import tensorflow as tf\n",
        "from tensorflow.keras.datasets import mnist\n",
        "from tensorflow.keras.models import Sequential\n",
        "from tensorflow.keras.layers import Conv2D, MaxPooling2D, Flatten, Dense, Dropout\n",
        "from tensorflow.keras.utils import to_categorical\n",
        "# Load and preprocess the dataset\n",
        "(x_train, y_train), (x_test, y_test) = mnist.load_data()\n",
        "x_train = x_train.reshape(x_train.shape[0], 28, 28, 1).astype('float32') / 255\n",
        "x_test = x_test.reshape(x_test.shape[0], 28, 28, 1).astype('float32') / 255\n",
        "y_train = to_categorical(y_train, 10)\n",
        "y_test = to_categorical(y_test, 10)\n",
        "# Build the CNN model\n",
        "model = Sequential()\n",
        "model.add(Conv2D(32, kernel_size=(3, 3), activation='relu',\n",
        "input_shape=(28, 28, 1)))\n",
        "model.add(MaxPooling2D(pool_size=(2, 2)))\n",
        "model.add(Conv2D(64, kernel_size=(3, 3), activation='relu'))\n",
        "model.add(MaxPooling2D(pool_size=(2, 2)))\n",
        "model.add(Flatten())\n",
        "model.add(Dense(128, activation='relu'))\n",
        "model.add(Dropout(0.5))\n",
        "model.add(Dense(10, activation='softmax'))\n",
        "# Compile the model\n",
        "model.compile(loss='categorical_crossentropy', optimizer='adam',\n",
        "metrics=['accuracy'])\n",
        "# Train the model\n",
        "model.fit(x_train, y_train, validation_data=(x_test, y_test), epochs=10,\n",
        "batch_size=200, verbose=2)\n",
        "# Evaluate the model\n",
        "test_loss, test_acc = model.evaluate(x_test, y_test, verbose=0)\n",
        "print(f'Test accuracy: {test_acc*100:.2f}%')\n",
        "\n",
        "\n"
      ]
    }
  ]
}