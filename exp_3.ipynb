{
  "nbformat": 4,
  "nbformat_minor": 0,
  "metadata": {
    "colab": {
      "provenance": [],
      "authorship_tag": "ABX9TyNwu8ZZ4Vzb8u2YkUXPwvlR",
      "include_colab_link": true
    },
    "kernelspec": {
      "name": "python3",
      "display_name": "Python 3"
    },
    "language_info": {
      "name": "python"
    }
  },
  "cells": [
    {
      "cell_type": "markdown",
      "metadata": {
        "id": "view-in-github",
        "colab_type": "text"
      },
      "source": [
        "<a href=\"https://colab.research.google.com/github/kotamahesh2/deeplearning/blob/main/exp_3.ipynb\" target=\"_parent\"><img src=\"https://colab.research.google.com/assets/colab-badge.svg\" alt=\"Open In Colab\"/></a>"
      ]
    },
    {
      "cell_type": "code",
      "execution_count": 1,
      "metadata": {
        "colab": {
          "base_uri": "https://localhost:8080/"
        },
        "id": "Om4Jul4PkGz4",
        "outputId": "913fdc5f-470e-46cd-f24d-6df15c6d2f8e"
      },
      "outputs": [
        {
          "output_type": "stream",
          "name": "stdout",
          "text": [
            "Epoch 1/10\n",
            "20/20 [==============================] - 1s 18ms/step - loss: 0.6533 - accuracy: 0.5063 - val_loss: 0.6235 - val_accuracy: 0.6000\n",
            "Epoch 2/10\n",
            "20/20 [==============================] - 0s 4ms/step - loss: 0.6373 - accuracy: 0.5375 - val_loss: 0.6055 - val_accuracy: 0.6187\n",
            "Epoch 3/10\n",
            "20/20 [==============================] - 0s 5ms/step - loss: 0.6217 - accuracy: 0.5859 - val_loss: 0.5883 - val_accuracy: 0.6500\n",
            "Epoch 4/10\n",
            "20/20 [==============================] - 0s 7ms/step - loss: 0.6042 - accuracy: 0.6328 - val_loss: 0.5729 - val_accuracy: 0.6750\n",
            "Epoch 5/10\n",
            "20/20 [==============================] - 0s 7ms/step - loss: 0.5860 - accuracy: 0.6719 - val_loss: 0.5545 - val_accuracy: 0.6875\n",
            "Epoch 6/10\n",
            "20/20 [==============================] - 0s 6ms/step - loss: 0.5660 - accuracy: 0.7172 - val_loss: 0.5359 - val_accuracy: 0.7437\n",
            "Epoch 7/10\n",
            "20/20 [==============================] - 0s 5ms/step - loss: 0.5449 - accuracy: 0.7500 - val_loss: 0.5152 - val_accuracy: 0.7688\n",
            "Epoch 8/10\n",
            "20/20 [==============================] - 0s 4ms/step - loss: 0.5224 - accuracy: 0.7922 - val_loss: 0.4933 - val_accuracy: 0.8188\n",
            "Epoch 9/10\n",
            "20/20 [==============================] - 0s 5ms/step - loss: 0.4989 - accuracy: 0.8078 - val_loss: 0.4723 - val_accuracy: 0.8562\n",
            "Epoch 10/10\n",
            "20/20 [==============================] - 0s 4ms/step - loss: 0.4755 - accuracy: 0.8203 - val_loss: 0.4501 - val_accuracy: 0.8813\n",
            "7/7 [==============================] - 0s 2ms/step\n",
            "Test accuracy: 0.8300\n"
          ]
        }
      ],
      "source": [
        "import numpy as np\n",
        "import tensorflow as tf\n",
        "from tensorflow.keras.models import Sequential\n",
        "from tensorflow.keras.layers import Dense,Input\n",
        "from sklearn.model_selection import train_test_split\n",
        "from sklearn.metrics import accuracy_score\n",
        "np.random.seed(42)\n",
        "X = np.random.rand(1000, 2)\n",
        "y = (X[:, 0] + X[:, 1] > 1).astype(int)\n",
        "X_train, X_test, y_train, y_test = train_test_split(X, y, test_size=0.2,\n",
        "random_state=42)\n",
        "model = Sequential([Input(shape=(2)),Dense(64, activation='relu'),Dense(1,\n",
        "activation='sigmoid')])\n",
        "model.compile(optimizer='adam',loss='binary_crossentropy',metrics=['accuracy'])\n",
        "model.fit(X_train, y_train, epochs=10, batch_size=32, validation_split=0.2)\n",
        "y_pred = model.predict(X_test)\n",
        "y_pred_binary = (y_pred > 0.5).astype(int)\n",
        "test_accuracy = accuracy_score(y_test, y_pred_binary)\n",
        "print(f\"Test accuracy: {test_accuracy:.4f}\")"
      ]
    }
  ]
}